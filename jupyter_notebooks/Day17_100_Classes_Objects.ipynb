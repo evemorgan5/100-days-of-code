{
 "cells": [
  {
   "cell_type": "code",
   "execution_count": 22,
   "id": "06301902",
   "metadata": {},
   "outputs": [
    {
     "name": "stdout",
     "output_type": "stream",
     "text": [
      "eve\n",
      "0\n",
      "1\n",
      "1\n",
      "0\n"
     ]
    }
   ],
   "source": [
    "class User:\n",
    "   \n",
    "# initialise attributes\n",
    "# attributes are things the object will have\n",
    "    def __init__(self, user_id, username):\n",
    "        self.id = user_id\n",
    "        self.username = username\n",
    "        self.followers = 0\n",
    "#         ^default value starts from 0 \n",
    "        self.following = 0\n",
    "\n",
    "    def follow(self, user):\n",
    "#         method always needs a self parameter\n",
    "         user.followers += 1\n",
    "         self.following += 1\n",
    "\n",
    "user_1 = User(\"001\", \"eve\")\n",
    "print(user_1.username)\n",
    "\n",
    "\n",
    "user_2 = User(\"002\",\"harry\")\n",
    "# # ^object   ^class   ^^attributes\n",
    "\n",
    "\n",
    "user_1.follow(user_2)\n",
    "print(user_1.followers)\n",
    "print(user_1.following)\n",
    "print(user_2.followers)\n",
    "print(user_2.following)"
   ]
  },
  {
   "cell_type": "code",
   "execution_count": null,
   "id": "d46d031c",
   "metadata": {},
   "outputs": [],
   "source": []
  }
 ],
 "metadata": {
  "kernelspec": {
   "display_name": "Python 2",
   "language": "python",
   "name": "python2"
  },
  "language_info": {
   "codemirror_mode": {
    "name": "ipython",
    "version": 3
   },
   "file_extension": ".py",
   "mimetype": "text/x-python",
   "name": "python",
   "nbconvert_exporter": "python",
   "pygments_lexer": "ipython3",
   "version": "3.8.8"
  }
 },
 "nbformat": 4,
 "nbformat_minor": 5
}
